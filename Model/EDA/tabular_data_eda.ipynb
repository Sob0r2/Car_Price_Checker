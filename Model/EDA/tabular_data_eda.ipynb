{
 "cells": [
  {
   "cell_type": "code",
   "execution_count": 9,
   "metadata": {},
   "outputs": [],
   "source": [
    "import pandas as pd\n",
    "import numpy as np\n",
    "import sklearn\n",
    "import matplotlib.pyplot as plt\n",
    "import seaborn as sns\n",
    "\n",
    "import sys\n",
    "import os\n",
    "\n",
    "current_dir = os.getcwd()\n",
    "PROJ_ROOT = os.path.join(os.path.dirname(os.path.dirname(current_dir)),'Model')\n",
    "sys.path.insert(0, PROJ_ROOT)\n",
    "\n",
    "from Car_Dataset import create_dataset"
   ]
  },
  {
   "cell_type": "code",
   "execution_count": 10,
   "metadata": {},
   "outputs": [],
   "source": [
    "df = create_dataset(eda = True)"
   ]
  },
  {
   "cell_type": "code",
   "execution_count": 11,
   "metadata": {},
   "outputs": [
    {
     "data": {
      "text/html": [
       "<div>\n",
       "<style scoped>\n",
       "    .dataframe tbody tr th:only-of-type {\n",
       "        vertical-align: middle;\n",
       "    }\n",
       "\n",
       "    .dataframe tbody tr th {\n",
       "        vertical-align: top;\n",
       "    }\n",
       "\n",
       "    .dataframe thead th {\n",
       "        text-align: right;\n",
       "    }\n",
       "</style>\n",
       "<table border=\"1\" class=\"dataframe\">\n",
       "  <thead>\n",
       "    <tr style=\"text-align: right;\">\n",
       "      <th></th>\n",
       "      <th>folder</th>\n",
       "      <th>image_tensor</th>\n",
       "      <th>car_model</th>\n",
       "      <th>link</th>\n",
       "      <th>year</th>\n",
       "      <th>door_count</th>\n",
       "      <th>nr_seats</th>\n",
       "      <th>mileage</th>\n",
       "      <th>fuel_type</th>\n",
       "      <th>transmission</th>\n",
       "      <th>body type</th>\n",
       "      <th>engine displacement</th>\n",
       "      <th>engine power</th>\n",
       "      <th>new_or_use</th>\n",
       "      <th>price</th>\n",
       "    </tr>\n",
       "  </thead>\n",
       "  <tbody>\n",
       "    <tr>\n",
       "      <th>0</th>\n",
       "      <td>Audi_10064</td>\n",
       "      <td>&lt;PIL.Image.Image image mode=RGB size=224x224 a...</td>\n",
       "      <td>Audi</td>\n",
       "      <td>https://www.otomoto.pl/osobowe/oferta/audi-a6-...</td>\n",
       "      <td>2024</td>\n",
       "      <td>5</td>\n",
       "      <td>5</td>\n",
       "      <td>1 km</td>\n",
       "      <td>Benzyna</td>\n",
       "      <td>Automatyczna</td>\n",
       "      <td>Kombi</td>\n",
       "      <td>1 984 cm3</td>\n",
       "      <td>367 KM</td>\n",
       "      <td>Nowy</td>\n",
       "      <td>313 200</td>\n",
       "    </tr>\n",
       "    <tr>\n",
       "      <th>1</th>\n",
       "      <td>Audi_10064</td>\n",
       "      <td>&lt;PIL.Image.Image image mode=RGB size=224x224 a...</td>\n",
       "      <td>Audi</td>\n",
       "      <td>https://www.otomoto.pl/osobowe/oferta/audi-a6-...</td>\n",
       "      <td>2024</td>\n",
       "      <td>5</td>\n",
       "      <td>5</td>\n",
       "      <td>1 km</td>\n",
       "      <td>Benzyna</td>\n",
       "      <td>Automatyczna</td>\n",
       "      <td>Kombi</td>\n",
       "      <td>1 984 cm3</td>\n",
       "      <td>367 KM</td>\n",
       "      <td>Nowy</td>\n",
       "      <td>313 200</td>\n",
       "    </tr>\n",
       "    <tr>\n",
       "      <th>2</th>\n",
       "      <td>Audi_10064</td>\n",
       "      <td>&lt;PIL.Image.Image image mode=RGB size=224x224 a...</td>\n",
       "      <td>Audi</td>\n",
       "      <td>https://www.otomoto.pl/osobowe/oferta/audi-a6-...</td>\n",
       "      <td>2024</td>\n",
       "      <td>5</td>\n",
       "      <td>5</td>\n",
       "      <td>1 km</td>\n",
       "      <td>Benzyna</td>\n",
       "      <td>Automatyczna</td>\n",
       "      <td>Kombi</td>\n",
       "      <td>1 984 cm3</td>\n",
       "      <td>367 KM</td>\n",
       "      <td>Nowy</td>\n",
       "      <td>313 200</td>\n",
       "    </tr>\n",
       "    <tr>\n",
       "      <th>3</th>\n",
       "      <td>Audi_10064</td>\n",
       "      <td>&lt;PIL.Image.Image image mode=RGB size=224x224 a...</td>\n",
       "      <td>Audi</td>\n",
       "      <td>https://www.otomoto.pl/osobowe/oferta/audi-a6-...</td>\n",
       "      <td>2024</td>\n",
       "      <td>5</td>\n",
       "      <td>5</td>\n",
       "      <td>1 km</td>\n",
       "      <td>Benzyna</td>\n",
       "      <td>Automatyczna</td>\n",
       "      <td>Kombi</td>\n",
       "      <td>1 984 cm3</td>\n",
       "      <td>367 KM</td>\n",
       "      <td>Nowy</td>\n",
       "      <td>313 200</td>\n",
       "    </tr>\n",
       "    <tr>\n",
       "      <th>4</th>\n",
       "      <td>Audi_10065</td>\n",
       "      <td>&lt;PIL.Image.Image image mode=RGB size=224x224 a...</td>\n",
       "      <td>Audi</td>\n",
       "      <td>https://www.otomoto.pl/osobowe/oferta/audi-q2-...</td>\n",
       "      <td>2024</td>\n",
       "      <td>5</td>\n",
       "      <td>5</td>\n",
       "      <td>1 km</td>\n",
       "      <td>Benzyna</td>\n",
       "      <td>Manualna</td>\n",
       "      <td>SUV</td>\n",
       "      <td>1 498 cm3</td>\n",
       "      <td>150 KM</td>\n",
       "      <td>Nowy</td>\n",
       "      <td>165 427</td>\n",
       "    </tr>\n",
       "  </tbody>\n",
       "</table>\n",
       "</div>"
      ],
      "text/plain": [
       "       folder                                       image_tensor car_model  \\\n",
       "0  Audi_10064  <PIL.Image.Image image mode=RGB size=224x224 a...      Audi   \n",
       "1  Audi_10064  <PIL.Image.Image image mode=RGB size=224x224 a...      Audi   \n",
       "2  Audi_10064  <PIL.Image.Image image mode=RGB size=224x224 a...      Audi   \n",
       "3  Audi_10064  <PIL.Image.Image image mode=RGB size=224x224 a...      Audi   \n",
       "4  Audi_10065  <PIL.Image.Image image mode=RGB size=224x224 a...      Audi   \n",
       "\n",
       "                                                link  year door_count  \\\n",
       "0  https://www.otomoto.pl/osobowe/oferta/audi-a6-...  2024          5   \n",
       "1  https://www.otomoto.pl/osobowe/oferta/audi-a6-...  2024          5   \n",
       "2  https://www.otomoto.pl/osobowe/oferta/audi-a6-...  2024          5   \n",
       "3  https://www.otomoto.pl/osobowe/oferta/audi-a6-...  2024          5   \n",
       "4  https://www.otomoto.pl/osobowe/oferta/audi-q2-...  2024          5   \n",
       "\n",
       "  nr_seats mileage fuel_type  transmission body type engine displacement  \\\n",
       "0        5    1 km   Benzyna  Automatyczna     Kombi           1 984 cm3   \n",
       "1        5    1 km   Benzyna  Automatyczna     Kombi           1 984 cm3   \n",
       "2        5    1 km   Benzyna  Automatyczna     Kombi           1 984 cm3   \n",
       "3        5    1 km   Benzyna  Automatyczna     Kombi           1 984 cm3   \n",
       "4        5    1 km   Benzyna      Manualna       SUV           1 498 cm3   \n",
       "\n",
       "  engine power new_or_use    price  \n",
       "0       367 KM       Nowy  313 200  \n",
       "1       367 KM       Nowy  313 200  \n",
       "2       367 KM       Nowy  313 200  \n",
       "3       367 KM       Nowy  313 200  \n",
       "4       150 KM       Nowy  165 427  "
      ]
     },
     "execution_count": 11,
     "metadata": {},
     "output_type": "execute_result"
    }
   ],
   "source": [
    "df.head()"
   ]
  },
  {
   "cell_type": "code",
   "execution_count": 80,
   "metadata": {},
   "outputs": [],
   "source": [
    "df = df.drop(['folder', 'image_tensor'], axis=1)"
   ]
  },
  {
   "cell_type": "code",
   "execution_count": 81,
   "metadata": {},
   "outputs": [
    {
     "data": {
      "text/plain": [
       "Index(['car_model', 'year', 'door_count', 'nr_seats', 'mileage', 'fuel_type',\n",
       "       'transmission', 'body type', 'engine displacement', 'engine power',\n",
       "       'new_or_use', 'price'],\n",
       "      dtype='object')"
      ]
     },
     "execution_count": 81,
     "metadata": {},
     "output_type": "execute_result"
    }
   ],
   "source": [
    "df.columns"
   ]
  },
  {
   "cell_type": "code",
   "execution_count": 82,
   "metadata": {},
   "outputs": [
    {
     "data": {
      "text/plain": [
       "car_model              0\n",
       "year                   0\n",
       "door_count             0\n",
       "nr_seats               0\n",
       "mileage                0\n",
       "fuel_type              0\n",
       "transmission           0\n",
       "body type              0\n",
       "engine displacement    0\n",
       "engine power           0\n",
       "new_or_use             0\n",
       "price                  0\n",
       "dtype: int64"
      ]
     },
     "execution_count": 82,
     "metadata": {},
     "output_type": "execute_result"
    }
   ],
   "source": [
    "df.isnull().sum()"
   ]
  },
  {
   "cell_type": "code",
   "execution_count": 83,
   "metadata": {},
   "outputs": [
    {
     "data": {
      "text/plain": [
       "car_model                0\n",
       "year                    10\n",
       "door_count              10\n",
       "nr_seats               228\n",
       "mileage                  0\n",
       "fuel_type                0\n",
       "transmission             0\n",
       "body type                0\n",
       "engine displacement      5\n",
       "engine power             0\n",
       "new_or_use               0\n",
       "price                    0\n",
       "dtype: int64"
      ]
     },
     "execution_count": 83,
     "metadata": {},
     "output_type": "execute_result"
    }
   ],
   "source": [
    "(df == '').sum()"
   ]
  },
  {
   "cell_type": "code",
   "execution_count": 84,
   "metadata": {},
   "outputs": [
    {
     "data": {
      "text/html": [
       "<div>\n",
       "<style scoped>\n",
       "    .dataframe tbody tr th:only-of-type {\n",
       "        vertical-align: middle;\n",
       "    }\n",
       "\n",
       "    .dataframe tbody tr th {\n",
       "        vertical-align: top;\n",
       "    }\n",
       "\n",
       "    .dataframe thead th {\n",
       "        text-align: right;\n",
       "    }\n",
       "</style>\n",
       "<table border=\"1\" class=\"dataframe\">\n",
       "  <thead>\n",
       "    <tr style=\"text-align: right;\">\n",
       "      <th></th>\n",
       "      <th>car_model</th>\n",
       "      <th>year</th>\n",
       "      <th>door_count</th>\n",
       "      <th>nr_seats</th>\n",
       "      <th>mileage</th>\n",
       "      <th>fuel_type</th>\n",
       "      <th>transmission</th>\n",
       "      <th>body type</th>\n",
       "      <th>engine displacement</th>\n",
       "      <th>engine power</th>\n",
       "      <th>new_or_use</th>\n",
       "      <th>price</th>\n",
       "    </tr>\n",
       "  </thead>\n",
       "  <tbody>\n",
       "    <tr>\n",
       "      <th>754</th>\n",
       "      <td>Opel</td>\n",
       "      <td></td>\n",
       "      <td></td>\n",
       "      <td></td>\n",
       "      <td>147 000 km</td>\n",
       "      <td>Benzyna</td>\n",
       "      <td>Manualna</td>\n",
       "      <td>Kombi</td>\n",
       "      <td>1 598 cm3</td>\n",
       "      <td>115 KM</td>\n",
       "      <td>Używany</td>\n",
       "      <td>36 800</td>\n",
       "    </tr>\n",
       "    <tr>\n",
       "      <th>755</th>\n",
       "      <td>Opel</td>\n",
       "      <td></td>\n",
       "      <td></td>\n",
       "      <td></td>\n",
       "      <td>147 000 km</td>\n",
       "      <td>Benzyna</td>\n",
       "      <td>Manualna</td>\n",
       "      <td>Kombi</td>\n",
       "      <td>1 598 cm3</td>\n",
       "      <td>115 KM</td>\n",
       "      <td>Używany</td>\n",
       "      <td>36 800</td>\n",
       "    </tr>\n",
       "    <tr>\n",
       "      <th>756</th>\n",
       "      <td>Opel</td>\n",
       "      <td></td>\n",
       "      <td></td>\n",
       "      <td></td>\n",
       "      <td>147 000 km</td>\n",
       "      <td>Benzyna</td>\n",
       "      <td>Manualna</td>\n",
       "      <td>Kombi</td>\n",
       "      <td>1 598 cm3</td>\n",
       "      <td>115 KM</td>\n",
       "      <td>Używany</td>\n",
       "      <td>36 800</td>\n",
       "    </tr>\n",
       "    <tr>\n",
       "      <th>757</th>\n",
       "      <td>Opel</td>\n",
       "      <td></td>\n",
       "      <td></td>\n",
       "      <td></td>\n",
       "      <td>147 000 km</td>\n",
       "      <td>Benzyna</td>\n",
       "      <td>Manualna</td>\n",
       "      <td>Kombi</td>\n",
       "      <td>1 598 cm3</td>\n",
       "      <td>115 KM</td>\n",
       "      <td>Używany</td>\n",
       "      <td>36 800</td>\n",
       "    </tr>\n",
       "    <tr>\n",
       "      <th>758</th>\n",
       "      <td>Opel</td>\n",
       "      <td></td>\n",
       "      <td></td>\n",
       "      <td></td>\n",
       "      <td>147 000 km</td>\n",
       "      <td>Benzyna</td>\n",
       "      <td>Manualna</td>\n",
       "      <td>Kombi</td>\n",
       "      <td>1 598 cm3</td>\n",
       "      <td>115 KM</td>\n",
       "      <td>Używany</td>\n",
       "      <td>36 800</td>\n",
       "    </tr>\n",
       "    <tr>\n",
       "      <th>759</th>\n",
       "      <td>Opel</td>\n",
       "      <td></td>\n",
       "      <td></td>\n",
       "      <td></td>\n",
       "      <td>147 000 km</td>\n",
       "      <td>Benzyna</td>\n",
       "      <td>Manualna</td>\n",
       "      <td>Kombi</td>\n",
       "      <td>1 598 cm3</td>\n",
       "      <td>115 KM</td>\n",
       "      <td>Używany</td>\n",
       "      <td>36 800</td>\n",
       "    </tr>\n",
       "    <tr>\n",
       "      <th>760</th>\n",
       "      <td>Opel</td>\n",
       "      <td></td>\n",
       "      <td></td>\n",
       "      <td></td>\n",
       "      <td>147 000 km</td>\n",
       "      <td>Benzyna</td>\n",
       "      <td>Manualna</td>\n",
       "      <td>Kombi</td>\n",
       "      <td>1 598 cm3</td>\n",
       "      <td>115 KM</td>\n",
       "      <td>Używany</td>\n",
       "      <td>36 800</td>\n",
       "    </tr>\n",
       "    <tr>\n",
       "      <th>761</th>\n",
       "      <td>Opel</td>\n",
       "      <td></td>\n",
       "      <td></td>\n",
       "      <td></td>\n",
       "      <td>147 000 km</td>\n",
       "      <td>Benzyna</td>\n",
       "      <td>Manualna</td>\n",
       "      <td>Kombi</td>\n",
       "      <td>1 598 cm3</td>\n",
       "      <td>115 KM</td>\n",
       "      <td>Używany</td>\n",
       "      <td>36 800</td>\n",
       "    </tr>\n",
       "    <tr>\n",
       "      <th>762</th>\n",
       "      <td>Opel</td>\n",
       "      <td></td>\n",
       "      <td></td>\n",
       "      <td></td>\n",
       "      <td>147 000 km</td>\n",
       "      <td>Benzyna</td>\n",
       "      <td>Manualna</td>\n",
       "      <td>Kombi</td>\n",
       "      <td>1 598 cm3</td>\n",
       "      <td>115 KM</td>\n",
       "      <td>Używany</td>\n",
       "      <td>36 800</td>\n",
       "    </tr>\n",
       "    <tr>\n",
       "      <th>763</th>\n",
       "      <td>Opel</td>\n",
       "      <td></td>\n",
       "      <td></td>\n",
       "      <td></td>\n",
       "      <td>147 000 km</td>\n",
       "      <td>Benzyna</td>\n",
       "      <td>Manualna</td>\n",
       "      <td>Kombi</td>\n",
       "      <td>1 598 cm3</td>\n",
       "      <td>115 KM</td>\n",
       "      <td>Używany</td>\n",
       "      <td>36 800</td>\n",
       "    </tr>\n",
       "  </tbody>\n",
       "</table>\n",
       "</div>"
      ],
      "text/plain": [
       "    car_model year door_count nr_seats     mileage fuel_type transmission  \\\n",
       "754      Opel                           147 000 km   Benzyna     Manualna   \n",
       "755      Opel                           147 000 km   Benzyna     Manualna   \n",
       "756      Opel                           147 000 km   Benzyna     Manualna   \n",
       "757      Opel                           147 000 km   Benzyna     Manualna   \n",
       "758      Opel                           147 000 km   Benzyna     Manualna   \n",
       "759      Opel                           147 000 km   Benzyna     Manualna   \n",
       "760      Opel                           147 000 km   Benzyna     Manualna   \n",
       "761      Opel                           147 000 km   Benzyna     Manualna   \n",
       "762      Opel                           147 000 km   Benzyna     Manualna   \n",
       "763      Opel                           147 000 km   Benzyna     Manualna   \n",
       "\n",
       "    body type engine displacement engine power new_or_use   price  \n",
       "754     Kombi           1 598 cm3       115 KM    Używany  36 800  \n",
       "755     Kombi           1 598 cm3       115 KM    Używany  36 800  \n",
       "756     Kombi           1 598 cm3       115 KM    Używany  36 800  \n",
       "757     Kombi           1 598 cm3       115 KM    Używany  36 800  \n",
       "758     Kombi           1 598 cm3       115 KM    Używany  36 800  \n",
       "759     Kombi           1 598 cm3       115 KM    Używany  36 800  \n",
       "760     Kombi           1 598 cm3       115 KM    Używany  36 800  \n",
       "761     Kombi           1 598 cm3       115 KM    Używany  36 800  \n",
       "762     Kombi           1 598 cm3       115 KM    Używany  36 800  \n",
       "763     Kombi           1 598 cm3       115 KM    Używany  36 800  "
      ]
     },
     "execution_count": 84,
     "metadata": {},
     "output_type": "execute_result"
    }
   ],
   "source": [
    "df[df['year'] == \"\"]"
   ]
  },
  {
   "cell_type": "code",
   "execution_count": 85,
   "metadata": {},
   "outputs": [
    {
     "data": {
      "text/html": [
       "<div>\n",
       "<style scoped>\n",
       "    .dataframe tbody tr th:only-of-type {\n",
       "        vertical-align: middle;\n",
       "    }\n",
       "\n",
       "    .dataframe tbody tr th {\n",
       "        vertical-align: top;\n",
       "    }\n",
       "\n",
       "    .dataframe thead th {\n",
       "        text-align: right;\n",
       "    }\n",
       "</style>\n",
       "<table border=\"1\" class=\"dataframe\">\n",
       "  <thead>\n",
       "    <tr style=\"text-align: right;\">\n",
       "      <th></th>\n",
       "      <th>car_model</th>\n",
       "      <th>year</th>\n",
       "      <th>door_count</th>\n",
       "      <th>nr_seats</th>\n",
       "      <th>mileage</th>\n",
       "      <th>fuel_type</th>\n",
       "      <th>transmission</th>\n",
       "      <th>body type</th>\n",
       "      <th>engine displacement</th>\n",
       "      <th>engine power</th>\n",
       "      <th>new_or_use</th>\n",
       "      <th>price</th>\n",
       "    </tr>\n",
       "  </thead>\n",
       "  <tbody>\n",
       "    <tr>\n",
       "      <th>1722</th>\n",
       "      <td>Volkswagen</td>\n",
       "      <td>2023</td>\n",
       "      <td>5</td>\n",
       "      <td>5</td>\n",
       "      <td>1 km</td>\n",
       "      <td>Elektryczny</td>\n",
       "      <td>Automatyczna</td>\n",
       "      <td>Kompakt</td>\n",
       "      <td></td>\n",
       "      <td>204 KM</td>\n",
       "      <td>Nowy</td>\n",
       "      <td>199 900</td>\n",
       "    </tr>\n",
       "    <tr>\n",
       "      <th>1723</th>\n",
       "      <td>Volkswagen</td>\n",
       "      <td>2023</td>\n",
       "      <td>5</td>\n",
       "      <td>5</td>\n",
       "      <td>1 km</td>\n",
       "      <td>Elektryczny</td>\n",
       "      <td>Automatyczna</td>\n",
       "      <td>Kompakt</td>\n",
       "      <td></td>\n",
       "      <td>204 KM</td>\n",
       "      <td>Nowy</td>\n",
       "      <td>199 900</td>\n",
       "    </tr>\n",
       "    <tr>\n",
       "      <th>1724</th>\n",
       "      <td>Volkswagen</td>\n",
       "      <td>2023</td>\n",
       "      <td>5</td>\n",
       "      <td>5</td>\n",
       "      <td>1 km</td>\n",
       "      <td>Elektryczny</td>\n",
       "      <td>Automatyczna</td>\n",
       "      <td>Kompakt</td>\n",
       "      <td></td>\n",
       "      <td>204 KM</td>\n",
       "      <td>Nowy</td>\n",
       "      <td>199 900</td>\n",
       "    </tr>\n",
       "    <tr>\n",
       "      <th>1725</th>\n",
       "      <td>Volkswagen</td>\n",
       "      <td>2023</td>\n",
       "      <td>5</td>\n",
       "      <td>5</td>\n",
       "      <td>1 km</td>\n",
       "      <td>Elektryczny</td>\n",
       "      <td>Automatyczna</td>\n",
       "      <td>Kompakt</td>\n",
       "      <td></td>\n",
       "      <td>204 KM</td>\n",
       "      <td>Nowy</td>\n",
       "      <td>199 900</td>\n",
       "    </tr>\n",
       "    <tr>\n",
       "      <th>1726</th>\n",
       "      <td>Volkswagen</td>\n",
       "      <td>2023</td>\n",
       "      <td>5</td>\n",
       "      <td>5</td>\n",
       "      <td>1 km</td>\n",
       "      <td>Elektryczny</td>\n",
       "      <td>Automatyczna</td>\n",
       "      <td>Kompakt</td>\n",
       "      <td></td>\n",
       "      <td>204 KM</td>\n",
       "      <td>Nowy</td>\n",
       "      <td>199 900</td>\n",
       "    </tr>\n",
       "  </tbody>\n",
       "</table>\n",
       "</div>"
      ],
      "text/plain": [
       "       car_model  year door_count nr_seats mileage    fuel_type  transmission  \\\n",
       "1722  Volkswagen  2023          5        5    1 km  Elektryczny  Automatyczna   \n",
       "1723  Volkswagen  2023          5        5    1 km  Elektryczny  Automatyczna   \n",
       "1724  Volkswagen  2023          5        5    1 km  Elektryczny  Automatyczna   \n",
       "1725  Volkswagen  2023          5        5    1 km  Elektryczny  Automatyczna   \n",
       "1726  Volkswagen  2023          5        5    1 km  Elektryczny  Automatyczna   \n",
       "\n",
       "     body type engine displacement engine power new_or_use    price  \n",
       "1722   Kompakt                           204 KM       Nowy  199 900  \n",
       "1723   Kompakt                           204 KM       Nowy  199 900  \n",
       "1724   Kompakt                           204 KM       Nowy  199 900  \n",
       "1725   Kompakt                           204 KM       Nowy  199 900  \n",
       "1726   Kompakt                           204 KM       Nowy  199 900  "
      ]
     },
     "execution_count": 85,
     "metadata": {},
     "output_type": "execute_result"
    }
   ],
   "source": [
    "df[df['engine displacement'] == \"\"]"
   ]
  },
  {
   "cell_type": "code",
   "execution_count": 86,
   "metadata": {},
   "outputs": [
    {
     "data": {
      "text/html": [
       "<div>\n",
       "<style scoped>\n",
       "    .dataframe tbody tr th:only-of-type {\n",
       "        vertical-align: middle;\n",
       "    }\n",
       "\n",
       "    .dataframe tbody tr th {\n",
       "        vertical-align: top;\n",
       "    }\n",
       "\n",
       "    .dataframe thead th {\n",
       "        text-align: right;\n",
       "    }\n",
       "</style>\n",
       "<table border=\"1\" class=\"dataframe\">\n",
       "  <thead>\n",
       "    <tr style=\"text-align: right;\">\n",
       "      <th></th>\n",
       "      <th>car_model</th>\n",
       "      <th>year</th>\n",
       "      <th>door_count</th>\n",
       "      <th>nr_seats</th>\n",
       "      <th>mileage</th>\n",
       "      <th>fuel_type</th>\n",
       "      <th>transmission</th>\n",
       "      <th>body type</th>\n",
       "      <th>engine displacement</th>\n",
       "      <th>engine power</th>\n",
       "      <th>new_or_use</th>\n",
       "      <th>price</th>\n",
       "    </tr>\n",
       "  </thead>\n",
       "  <tbody>\n",
       "    <tr>\n",
       "      <th>1722</th>\n",
       "      <td>Volkswagen</td>\n",
       "      <td>2023</td>\n",
       "      <td>5</td>\n",
       "      <td>5</td>\n",
       "      <td>1 km</td>\n",
       "      <td>Elektryczny</td>\n",
       "      <td>Automatyczna</td>\n",
       "      <td>Kompakt</td>\n",
       "      <td></td>\n",
       "      <td>204 KM</td>\n",
       "      <td>Nowy</td>\n",
       "      <td>199 900</td>\n",
       "    </tr>\n",
       "    <tr>\n",
       "      <th>1723</th>\n",
       "      <td>Volkswagen</td>\n",
       "      <td>2023</td>\n",
       "      <td>5</td>\n",
       "      <td>5</td>\n",
       "      <td>1 km</td>\n",
       "      <td>Elektryczny</td>\n",
       "      <td>Automatyczna</td>\n",
       "      <td>Kompakt</td>\n",
       "      <td></td>\n",
       "      <td>204 KM</td>\n",
       "      <td>Nowy</td>\n",
       "      <td>199 900</td>\n",
       "    </tr>\n",
       "    <tr>\n",
       "      <th>1724</th>\n",
       "      <td>Volkswagen</td>\n",
       "      <td>2023</td>\n",
       "      <td>5</td>\n",
       "      <td>5</td>\n",
       "      <td>1 km</td>\n",
       "      <td>Elektryczny</td>\n",
       "      <td>Automatyczna</td>\n",
       "      <td>Kompakt</td>\n",
       "      <td></td>\n",
       "      <td>204 KM</td>\n",
       "      <td>Nowy</td>\n",
       "      <td>199 900</td>\n",
       "    </tr>\n",
       "    <tr>\n",
       "      <th>1725</th>\n",
       "      <td>Volkswagen</td>\n",
       "      <td>2023</td>\n",
       "      <td>5</td>\n",
       "      <td>5</td>\n",
       "      <td>1 km</td>\n",
       "      <td>Elektryczny</td>\n",
       "      <td>Automatyczna</td>\n",
       "      <td>Kompakt</td>\n",
       "      <td></td>\n",
       "      <td>204 KM</td>\n",
       "      <td>Nowy</td>\n",
       "      <td>199 900</td>\n",
       "    </tr>\n",
       "    <tr>\n",
       "      <th>1726</th>\n",
       "      <td>Volkswagen</td>\n",
       "      <td>2023</td>\n",
       "      <td>5</td>\n",
       "      <td>5</td>\n",
       "      <td>1 km</td>\n",
       "      <td>Elektryczny</td>\n",
       "      <td>Automatyczna</td>\n",
       "      <td>Kompakt</td>\n",
       "      <td></td>\n",
       "      <td>204 KM</td>\n",
       "      <td>Nowy</td>\n",
       "      <td>199 900</td>\n",
       "    </tr>\n",
       "  </tbody>\n",
       "</table>\n",
       "</div>"
      ],
      "text/plain": [
       "       car_model  year door_count nr_seats mileage    fuel_type  transmission  \\\n",
       "1722  Volkswagen  2023          5        5    1 km  Elektryczny  Automatyczna   \n",
       "1723  Volkswagen  2023          5        5    1 km  Elektryczny  Automatyczna   \n",
       "1724  Volkswagen  2023          5        5    1 km  Elektryczny  Automatyczna   \n",
       "1725  Volkswagen  2023          5        5    1 km  Elektryczny  Automatyczna   \n",
       "1726  Volkswagen  2023          5        5    1 km  Elektryczny  Automatyczna   \n",
       "\n",
       "     body type engine displacement engine power new_or_use    price  \n",
       "1722   Kompakt                           204 KM       Nowy  199 900  \n",
       "1723   Kompakt                           204 KM       Nowy  199 900  \n",
       "1724   Kompakt                           204 KM       Nowy  199 900  \n",
       "1725   Kompakt                           204 KM       Nowy  199 900  \n",
       "1726   Kompakt                           204 KM       Nowy  199 900  "
      ]
     },
     "execution_count": 86,
     "metadata": {},
     "output_type": "execute_result"
    }
   ],
   "source": [
    "df[df['fuel_type'] == \"Elektryczny\"]"
   ]
  },
  {
   "cell_type": "markdown",
   "metadata": {},
   "source": [
    "### ELECTRIC CARS DON'T HAVE ENGINE DISPLACEMENT."
   ]
  },
  {
   "cell_type": "code",
   "execution_count": 87,
   "metadata": {},
   "outputs": [],
   "source": [
    "df.loc[df['fuel_type'] == 'Elektryczny', 'engine displacement'] = 0"
   ]
  },
  {
   "cell_type": "code",
   "execution_count": 88,
   "metadata": {},
   "outputs": [
    {
     "data": {
      "text/html": [
       "<div>\n",
       "<style scoped>\n",
       "    .dataframe tbody tr th:only-of-type {\n",
       "        vertical-align: middle;\n",
       "    }\n",
       "\n",
       "    .dataframe tbody tr th {\n",
       "        vertical-align: top;\n",
       "    }\n",
       "\n",
       "    .dataframe thead th {\n",
       "        text-align: right;\n",
       "    }\n",
       "</style>\n",
       "<table border=\"1\" class=\"dataframe\">\n",
       "  <thead>\n",
       "    <tr style=\"text-align: right;\">\n",
       "      <th></th>\n",
       "      <th>car_model</th>\n",
       "      <th>year</th>\n",
       "      <th>door_count</th>\n",
       "      <th>nr_seats</th>\n",
       "      <th>mileage</th>\n",
       "      <th>fuel_type</th>\n",
       "      <th>transmission</th>\n",
       "      <th>body type</th>\n",
       "      <th>engine displacement</th>\n",
       "      <th>engine power</th>\n",
       "      <th>new_or_use</th>\n",
       "      <th>price</th>\n",
       "    </tr>\n",
       "  </thead>\n",
       "  <tbody>\n",
       "    <tr>\n",
       "      <th>1722</th>\n",
       "      <td>Volkswagen</td>\n",
       "      <td>2023</td>\n",
       "      <td>5</td>\n",
       "      <td>5</td>\n",
       "      <td>1 km</td>\n",
       "      <td>Elektryczny</td>\n",
       "      <td>Automatyczna</td>\n",
       "      <td>Kompakt</td>\n",
       "      <td>0</td>\n",
       "      <td>204 KM</td>\n",
       "      <td>Nowy</td>\n",
       "      <td>199 900</td>\n",
       "    </tr>\n",
       "    <tr>\n",
       "      <th>1723</th>\n",
       "      <td>Volkswagen</td>\n",
       "      <td>2023</td>\n",
       "      <td>5</td>\n",
       "      <td>5</td>\n",
       "      <td>1 km</td>\n",
       "      <td>Elektryczny</td>\n",
       "      <td>Automatyczna</td>\n",
       "      <td>Kompakt</td>\n",
       "      <td>0</td>\n",
       "      <td>204 KM</td>\n",
       "      <td>Nowy</td>\n",
       "      <td>199 900</td>\n",
       "    </tr>\n",
       "    <tr>\n",
       "      <th>1724</th>\n",
       "      <td>Volkswagen</td>\n",
       "      <td>2023</td>\n",
       "      <td>5</td>\n",
       "      <td>5</td>\n",
       "      <td>1 km</td>\n",
       "      <td>Elektryczny</td>\n",
       "      <td>Automatyczna</td>\n",
       "      <td>Kompakt</td>\n",
       "      <td>0</td>\n",
       "      <td>204 KM</td>\n",
       "      <td>Nowy</td>\n",
       "      <td>199 900</td>\n",
       "    </tr>\n",
       "    <tr>\n",
       "      <th>1725</th>\n",
       "      <td>Volkswagen</td>\n",
       "      <td>2023</td>\n",
       "      <td>5</td>\n",
       "      <td>5</td>\n",
       "      <td>1 km</td>\n",
       "      <td>Elektryczny</td>\n",
       "      <td>Automatyczna</td>\n",
       "      <td>Kompakt</td>\n",
       "      <td>0</td>\n",
       "      <td>204 KM</td>\n",
       "      <td>Nowy</td>\n",
       "      <td>199 900</td>\n",
       "    </tr>\n",
       "    <tr>\n",
       "      <th>1726</th>\n",
       "      <td>Volkswagen</td>\n",
       "      <td>2023</td>\n",
       "      <td>5</td>\n",
       "      <td>5</td>\n",
       "      <td>1 km</td>\n",
       "      <td>Elektryczny</td>\n",
       "      <td>Automatyczna</td>\n",
       "      <td>Kompakt</td>\n",
       "      <td>0</td>\n",
       "      <td>204 KM</td>\n",
       "      <td>Nowy</td>\n",
       "      <td>199 900</td>\n",
       "    </tr>\n",
       "  </tbody>\n",
       "</table>\n",
       "</div>"
      ],
      "text/plain": [
       "       car_model  year door_count nr_seats mileage    fuel_type  transmission  \\\n",
       "1722  Volkswagen  2023          5        5    1 km  Elektryczny  Automatyczna   \n",
       "1723  Volkswagen  2023          5        5    1 km  Elektryczny  Automatyczna   \n",
       "1724  Volkswagen  2023          5        5    1 km  Elektryczny  Automatyczna   \n",
       "1725  Volkswagen  2023          5        5    1 km  Elektryczny  Automatyczna   \n",
       "1726  Volkswagen  2023          5        5    1 km  Elektryczny  Automatyczna   \n",
       "\n",
       "     body type engine displacement engine power new_or_use    price  \n",
       "1722   Kompakt                   0       204 KM       Nowy  199 900  \n",
       "1723   Kompakt                   0       204 KM       Nowy  199 900  \n",
       "1724   Kompakt                   0       204 KM       Nowy  199 900  \n",
       "1725   Kompakt                   0       204 KM       Nowy  199 900  \n",
       "1726   Kompakt                   0       204 KM       Nowy  199 900  "
      ]
     },
     "execution_count": 88,
     "metadata": {},
     "output_type": "execute_result"
    }
   ],
   "source": [
    "df[df['fuel_type'] == \"Elektryczny\"]"
   ]
  },
  {
   "cell_type": "markdown",
   "metadata": {},
   "source": [
    "<h3> We can assume that most of the cars have 5 seat </h3>\n",
    "<h3>we have to map number of doors to be equal 3 or 5. </h3>"
   ]
  },
  {
   "cell_type": "code",
   "execution_count": 89,
   "metadata": {},
   "outputs": [
    {
     "data": {
      "text/plain": [
       "5    1414\n",
       "4     216\n",
       "2      53\n",
       "3      42\n",
       "       10\n",
       "Name: door_count, dtype: int64"
      ]
     },
     "execution_count": 89,
     "metadata": {},
     "output_type": "execute_result"
    }
   ],
   "source": [
    "df['door_count'].value_counts()"
   ]
  },
  {
   "cell_type": "code",
   "execution_count": 90,
   "metadata": {},
   "outputs": [
    {
     "data": {
      "text/plain": [
       "5    1417\n",
       "      228\n",
       "7      38\n",
       "4      34\n",
       "6       7\n",
       "9       6\n",
       "2       5\n",
       "Name: nr_seats, dtype: int64"
      ]
     },
     "execution_count": 90,
     "metadata": {},
     "output_type": "execute_result"
    }
   ],
   "source": [
    "df['nr_seats'].value_counts()"
   ]
  },
  {
   "cell_type": "code",
   "execution_count": 91,
   "metadata": {},
   "outputs": [
    {
     "data": {
      "text/html": [
       "<div>\n",
       "<style scoped>\n",
       "    .dataframe tbody tr th:only-of-type {\n",
       "        vertical-align: middle;\n",
       "    }\n",
       "\n",
       "    .dataframe tbody tr th {\n",
       "        vertical-align: top;\n",
       "    }\n",
       "\n",
       "    .dataframe thead th {\n",
       "        text-align: right;\n",
       "    }\n",
       "</style>\n",
       "<table border=\"1\" class=\"dataframe\">\n",
       "  <thead>\n",
       "    <tr style=\"text-align: right;\">\n",
       "      <th></th>\n",
       "      <th>car_model</th>\n",
       "      <th>year</th>\n",
       "      <th>door_count</th>\n",
       "      <th>nr_seats</th>\n",
       "      <th>mileage</th>\n",
       "      <th>fuel_type</th>\n",
       "      <th>transmission</th>\n",
       "      <th>body type</th>\n",
       "      <th>engine displacement</th>\n",
       "      <th>engine power</th>\n",
       "      <th>new_or_use</th>\n",
       "      <th>price</th>\n",
       "    </tr>\n",
       "  </thead>\n",
       "  <tbody>\n",
       "    <tr>\n",
       "      <th>23</th>\n",
       "      <td>Audi</td>\n",
       "      <td>2014</td>\n",
       "      <td>4</td>\n",
       "      <td>5</td>\n",
       "      <td>194 500 km</td>\n",
       "      <td>Benzyna</td>\n",
       "      <td>Automatyczna</td>\n",
       "      <td>Sedan</td>\n",
       "      <td>3 993 cm3</td>\n",
       "      <td>435 KM</td>\n",
       "      <td>Używany</td>\n",
       "      <td>99 000</td>\n",
       "    </tr>\n",
       "    <tr>\n",
       "      <th>24</th>\n",
       "      <td>Audi</td>\n",
       "      <td>2014</td>\n",
       "      <td>4</td>\n",
       "      <td>5</td>\n",
       "      <td>194 500 km</td>\n",
       "      <td>Benzyna</td>\n",
       "      <td>Automatyczna</td>\n",
       "      <td>Sedan</td>\n",
       "      <td>3 993 cm3</td>\n",
       "      <td>435 KM</td>\n",
       "      <td>Używany</td>\n",
       "      <td>99 000</td>\n",
       "    </tr>\n",
       "    <tr>\n",
       "      <th>25</th>\n",
       "      <td>Audi</td>\n",
       "      <td>2014</td>\n",
       "      <td>4</td>\n",
       "      <td>5</td>\n",
       "      <td>194 500 km</td>\n",
       "      <td>Benzyna</td>\n",
       "      <td>Automatyczna</td>\n",
       "      <td>Sedan</td>\n",
       "      <td>3 993 cm3</td>\n",
       "      <td>435 KM</td>\n",
       "      <td>Używany</td>\n",
       "      <td>99 000</td>\n",
       "    </tr>\n",
       "    <tr>\n",
       "      <th>26</th>\n",
       "      <td>Audi</td>\n",
       "      <td>2014</td>\n",
       "      <td>4</td>\n",
       "      <td>5</td>\n",
       "      <td>194 500 km</td>\n",
       "      <td>Benzyna</td>\n",
       "      <td>Automatyczna</td>\n",
       "      <td>Sedan</td>\n",
       "      <td>3 993 cm3</td>\n",
       "      <td>435 KM</td>\n",
       "      <td>Używany</td>\n",
       "      <td>99 000</td>\n",
       "    </tr>\n",
       "    <tr>\n",
       "      <th>27</th>\n",
       "      <td>Audi</td>\n",
       "      <td>2014</td>\n",
       "      <td>4</td>\n",
       "      <td>5</td>\n",
       "      <td>194 500 km</td>\n",
       "      <td>Benzyna</td>\n",
       "      <td>Automatyczna</td>\n",
       "      <td>Sedan</td>\n",
       "      <td>3 993 cm3</td>\n",
       "      <td>435 KM</td>\n",
       "      <td>Używany</td>\n",
       "      <td>99 000</td>\n",
       "    </tr>\n",
       "  </tbody>\n",
       "</table>\n",
       "</div>"
      ],
      "text/plain": [
       "   car_model  year door_count nr_seats     mileage fuel_type  transmission  \\\n",
       "23      Audi  2014          4        5  194 500 km   Benzyna  Automatyczna   \n",
       "24      Audi  2014          4        5  194 500 km   Benzyna  Automatyczna   \n",
       "25      Audi  2014          4        5  194 500 km   Benzyna  Automatyczna   \n",
       "26      Audi  2014          4        5  194 500 km   Benzyna  Automatyczna   \n",
       "27      Audi  2014          4        5  194 500 km   Benzyna  Automatyczna   \n",
       "\n",
       "   body type engine displacement engine power new_or_use   price  \n",
       "23     Sedan           3 993 cm3       435 KM    Używany  99 000  \n",
       "24     Sedan           3 993 cm3       435 KM    Używany  99 000  \n",
       "25     Sedan           3 993 cm3       435 KM    Używany  99 000  \n",
       "26     Sedan           3 993 cm3       435 KM    Używany  99 000  \n",
       "27     Sedan           3 993 cm3       435 KM    Używany  99 000  "
      ]
     },
     "execution_count": 91,
     "metadata": {},
     "output_type": "execute_result"
    }
   ],
   "source": [
    "df[df['door_count'] == '4'].head()"
   ]
  },
  {
   "cell_type": "code",
   "execution_count": 92,
   "metadata": {},
   "outputs": [
    {
     "data": {
      "text/html": [
       "<div>\n",
       "<style scoped>\n",
       "    .dataframe tbody tr th:only-of-type {\n",
       "        vertical-align: middle;\n",
       "    }\n",
       "\n",
       "    .dataframe tbody tr th {\n",
       "        vertical-align: top;\n",
       "    }\n",
       "\n",
       "    .dataframe thead th {\n",
       "        text-align: right;\n",
       "    }\n",
       "</style>\n",
       "<table border=\"1\" class=\"dataframe\">\n",
       "  <thead>\n",
       "    <tr style=\"text-align: right;\">\n",
       "      <th></th>\n",
       "      <th>car_model</th>\n",
       "      <th>year</th>\n",
       "      <th>door_count</th>\n",
       "      <th>nr_seats</th>\n",
       "      <th>mileage</th>\n",
       "      <th>fuel_type</th>\n",
       "      <th>transmission</th>\n",
       "      <th>body type</th>\n",
       "      <th>engine displacement</th>\n",
       "      <th>engine power</th>\n",
       "      <th>new_or_use</th>\n",
       "      <th>price</th>\n",
       "    </tr>\n",
       "  </thead>\n",
       "  <tbody>\n",
       "    <tr>\n",
       "      <th>287</th>\n",
       "      <td>BMW</td>\n",
       "      <td>2007</td>\n",
       "      <td>3</td>\n",
       "      <td>4</td>\n",
       "      <td>146 000 km</td>\n",
       "      <td>Benzyna</td>\n",
       "      <td>Automatyczna</td>\n",
       "      <td>Auta miejskie</td>\n",
       "      <td>1 995 cm3</td>\n",
       "      <td>143 KM</td>\n",
       "      <td>Używany</td>\n",
       "      <td>22 500</td>\n",
       "    </tr>\n",
       "    <tr>\n",
       "      <th>344</th>\n",
       "      <td>BMW</td>\n",
       "      <td>2009</td>\n",
       "      <td>3</td>\n",
       "      <td>5</td>\n",
       "      <td>240 000 km</td>\n",
       "      <td>Diesel</td>\n",
       "      <td>Manualna</td>\n",
       "      <td>Kompakt</td>\n",
       "      <td>1 995 cm3</td>\n",
       "      <td>143 KM</td>\n",
       "      <td>Używany</td>\n",
       "      <td>16 000</td>\n",
       "    </tr>\n",
       "    <tr>\n",
       "      <th>510</th>\n",
       "      <td>Ford</td>\n",
       "      <td>2014</td>\n",
       "      <td>3</td>\n",
       "      <td>5</td>\n",
       "      <td>151 900 km</td>\n",
       "      <td>Benzyna</td>\n",
       "      <td>Manualna</td>\n",
       "      <td>Auta małe</td>\n",
       "      <td>998 cm3</td>\n",
       "      <td>100 KM</td>\n",
       "      <td>Używany</td>\n",
       "      <td>21 500</td>\n",
       "    </tr>\n",
       "    <tr>\n",
       "      <th>511</th>\n",
       "      <td>Ford</td>\n",
       "      <td>2014</td>\n",
       "      <td>3</td>\n",
       "      <td>5</td>\n",
       "      <td>151 900 km</td>\n",
       "      <td>Benzyna</td>\n",
       "      <td>Manualna</td>\n",
       "      <td>Auta małe</td>\n",
       "      <td>998 cm3</td>\n",
       "      <td>100 KM</td>\n",
       "      <td>Używany</td>\n",
       "      <td>21 500</td>\n",
       "    </tr>\n",
       "    <tr>\n",
       "      <th>512</th>\n",
       "      <td>Ford</td>\n",
       "      <td>2014</td>\n",
       "      <td>3</td>\n",
       "      <td>5</td>\n",
       "      <td>151 900 km</td>\n",
       "      <td>Benzyna</td>\n",
       "      <td>Manualna</td>\n",
       "      <td>Auta małe</td>\n",
       "      <td>998 cm3</td>\n",
       "      <td>100 KM</td>\n",
       "      <td>Używany</td>\n",
       "      <td>21 500</td>\n",
       "    </tr>\n",
       "  </tbody>\n",
       "</table>\n",
       "</div>"
      ],
      "text/plain": [
       "    car_model  year door_count nr_seats     mileage fuel_type  transmission  \\\n",
       "287       BMW  2007          3        4  146 000 km   Benzyna  Automatyczna   \n",
       "344       BMW  2009          3        5  240 000 km    Diesel      Manualna   \n",
       "510      Ford  2014          3        5  151 900 km   Benzyna      Manualna   \n",
       "511      Ford  2014          3        5  151 900 km   Benzyna      Manualna   \n",
       "512      Ford  2014          3        5  151 900 km   Benzyna      Manualna   \n",
       "\n",
       "         body type engine displacement engine power new_or_use   price  \n",
       "287  Auta miejskie           1 995 cm3       143 KM    Używany  22 500  \n",
       "344        Kompakt           1 995 cm3       143 KM    Używany  16 000  \n",
       "510      Auta małe             998 cm3       100 KM    Używany  21 500  \n",
       "511      Auta małe             998 cm3       100 KM    Używany  21 500  \n",
       "512      Auta małe             998 cm3       100 KM    Używany  21 500  "
      ]
     },
     "execution_count": 92,
     "metadata": {},
     "output_type": "execute_result"
    }
   ],
   "source": [
    "df[df['door_count'] == '3'].head()"
   ]
  },
  {
   "cell_type": "code",
   "execution_count": 93,
   "metadata": {},
   "outputs": [
    {
     "data": {
      "text/html": [
       "<div>\n",
       "<style scoped>\n",
       "    .dataframe tbody tr th:only-of-type {\n",
       "        vertical-align: middle;\n",
       "    }\n",
       "\n",
       "    .dataframe tbody tr th {\n",
       "        vertical-align: top;\n",
       "    }\n",
       "\n",
       "    .dataframe thead th {\n",
       "        text-align: right;\n",
       "    }\n",
       "</style>\n",
       "<table border=\"1\" class=\"dataframe\">\n",
       "  <thead>\n",
       "    <tr style=\"text-align: right;\">\n",
       "      <th></th>\n",
       "      <th>car_model</th>\n",
       "      <th>year</th>\n",
       "      <th>door_count</th>\n",
       "      <th>nr_seats</th>\n",
       "      <th>mileage</th>\n",
       "      <th>fuel_type</th>\n",
       "      <th>transmission</th>\n",
       "      <th>body type</th>\n",
       "      <th>engine displacement</th>\n",
       "      <th>engine power</th>\n",
       "      <th>new_or_use</th>\n",
       "      <th>price</th>\n",
       "    </tr>\n",
       "  </thead>\n",
       "  <tbody>\n",
       "    <tr>\n",
       "      <th>192</th>\n",
       "      <td>Audi</td>\n",
       "      <td>2010</td>\n",
       "      <td>2</td>\n",
       "      <td></td>\n",
       "      <td>320 000 km</td>\n",
       "      <td>Diesel</td>\n",
       "      <td>Automatyczna</td>\n",
       "      <td>Coupe</td>\n",
       "      <td>2 698 cm3</td>\n",
       "      <td>190 KM</td>\n",
       "      <td>Używany</td>\n",
       "      <td>38 900</td>\n",
       "    </tr>\n",
       "    <tr>\n",
       "      <th>193</th>\n",
       "      <td>Audi</td>\n",
       "      <td>2010</td>\n",
       "      <td>2</td>\n",
       "      <td></td>\n",
       "      <td>320 000 km</td>\n",
       "      <td>Diesel</td>\n",
       "      <td>Automatyczna</td>\n",
       "      <td>Coupe</td>\n",
       "      <td>2 698 cm3</td>\n",
       "      <td>190 KM</td>\n",
       "      <td>Używany</td>\n",
       "      <td>38 900</td>\n",
       "    </tr>\n",
       "    <tr>\n",
       "      <th>194</th>\n",
       "      <td>Audi</td>\n",
       "      <td>2010</td>\n",
       "      <td>2</td>\n",
       "      <td></td>\n",
       "      <td>320 000 km</td>\n",
       "      <td>Diesel</td>\n",
       "      <td>Automatyczna</td>\n",
       "      <td>Coupe</td>\n",
       "      <td>2 698 cm3</td>\n",
       "      <td>190 KM</td>\n",
       "      <td>Używany</td>\n",
       "      <td>38 900</td>\n",
       "    </tr>\n",
       "    <tr>\n",
       "      <th>195</th>\n",
       "      <td>Audi</td>\n",
       "      <td>2010</td>\n",
       "      <td>2</td>\n",
       "      <td></td>\n",
       "      <td>320 000 km</td>\n",
       "      <td>Diesel</td>\n",
       "      <td>Automatyczna</td>\n",
       "      <td>Coupe</td>\n",
       "      <td>2 698 cm3</td>\n",
       "      <td>190 KM</td>\n",
       "      <td>Używany</td>\n",
       "      <td>38 900</td>\n",
       "    </tr>\n",
       "    <tr>\n",
       "      <th>196</th>\n",
       "      <td>Audi</td>\n",
       "      <td>2010</td>\n",
       "      <td>2</td>\n",
       "      <td></td>\n",
       "      <td>320 000 km</td>\n",
       "      <td>Diesel</td>\n",
       "      <td>Automatyczna</td>\n",
       "      <td>Coupe</td>\n",
       "      <td>2 698 cm3</td>\n",
       "      <td>190 KM</td>\n",
       "      <td>Używany</td>\n",
       "      <td>38 900</td>\n",
       "    </tr>\n",
       "  </tbody>\n",
       "</table>\n",
       "</div>"
      ],
      "text/plain": [
       "    car_model  year door_count nr_seats     mileage fuel_type  transmission  \\\n",
       "192      Audi  2010          2           320 000 km    Diesel  Automatyczna   \n",
       "193      Audi  2010          2           320 000 km    Diesel  Automatyczna   \n",
       "194      Audi  2010          2           320 000 km    Diesel  Automatyczna   \n",
       "195      Audi  2010          2           320 000 km    Diesel  Automatyczna   \n",
       "196      Audi  2010          2           320 000 km    Diesel  Automatyczna   \n",
       "\n",
       "    body type engine displacement engine power new_or_use   price  \n",
       "192     Coupe           2 698 cm3       190 KM    Używany  38 900  \n",
       "193     Coupe           2 698 cm3       190 KM    Używany  38 900  \n",
       "194     Coupe           2 698 cm3       190 KM    Używany  38 900  \n",
       "195     Coupe           2 698 cm3       190 KM    Używany  38 900  \n",
       "196     Coupe           2 698 cm3       190 KM    Używany  38 900  "
      ]
     },
     "execution_count": 93,
     "metadata": {},
     "output_type": "execute_result"
    }
   ],
   "source": [
    "df[df['door_count'] == '2'].head()"
   ]
  },
  {
   "cell_type": "code",
   "execution_count": 94,
   "metadata": {},
   "outputs": [],
   "source": [
    "door_mapper = {'2': '3', '4': '5'}\n",
    "df['door_count'] = df['door_count'].apply(lambda x: door_mapper.get(x,x))"
   ]
  },
  {
   "cell_type": "code",
   "execution_count": 95,
   "metadata": {},
   "outputs": [
    {
     "data": {
      "text/plain": [
       "5    1630\n",
       "3      95\n",
       "       10\n",
       "Name: door_count, dtype: int64"
      ]
     },
     "execution_count": 95,
     "metadata": {},
     "output_type": "execute_result"
    }
   ],
   "source": [
    "df['door_count'].value_counts()"
   ]
  },
  {
   "cell_type": "code",
   "execution_count": 96,
   "metadata": {},
   "outputs": [
    {
     "data": {
      "image/png": "[encoded data removed]",
      "text/plain": [
       "<Figure size 640x480 with 1 Axes>"
      ]
     },
     "metadata": {},
     "output_type": "display_data"
    }
   ],
   "source": [
    "df['door_count_rand'] = df['door_count'].apply(lambda x: int(x) + np.random.uniform(0,0.5) if x != \"\" else 0)\n",
    "df['nr_seats_rand'] = df['nr_seats'].apply(lambda x: int(x) + np.random.uniform(0, 0.5) if x != \"\" else 0)\n",
    "\n",
    "sns.scatterplot(data = df, x = 'door_count_rand', y = 'nr_seats_rand')\n",
    "\n",
    "df = df.drop(['door_count_rand', 'nr_seats_rand'], axis=1)"
   ]
  },
  {
   "cell_type": "code",
   "execution_count": 97,
   "metadata": {},
   "outputs": [],
   "source": [
    "df = df.drop('nr_seats', axis=1)"
   ]
  },
  {
   "cell_type": "code",
   "execution_count": 98,
   "metadata": {},
   "outputs": [
    {
     "data": {
      "text/plain": [
       "Index(['car_model', 'year', 'door_count', 'mileage', 'fuel_type',\n",
       "       'transmission', 'body type', 'engine displacement', 'engine power',\n",
       "       'new_or_use', 'price'],\n",
       "      dtype='object')"
      ]
     },
     "execution_count": 98,
     "metadata": {},
     "output_type": "execute_result"
    }
   ],
   "source": [
    "df.columns"
   ]
  },
  {
   "cell_type": "code",
   "execution_count": 99,
   "metadata": {},
   "outputs": [
    {
     "data": {
      "text/plain": [
       "(1735, 11)"
      ]
     },
     "execution_count": 99,
     "metadata": {},
     "output_type": "execute_result"
    }
   ],
   "source": [
    "df.shape"
   ]
  },
  {
   "cell_type": "code",
   "execution_count": 100,
   "metadata": {},
   "outputs": [],
   "source": [
    "df = df.replace(\"\", np.nan)\n",
    "df = df.dropna()"
   ]
  },
  {
   "cell_type": "code",
   "execution_count": 101,
   "metadata": {},
   "outputs": [
    {
     "data": {
      "text/plain": [
       "(1725, 11)"
      ]
     },
     "execution_count": 101,
     "metadata": {},
     "output_type": "execute_result"
    }
   ],
   "source": [
    "df.shape"
   ]
  },
  {
   "cell_type": "markdown",
   "metadata": {},
   "source": [
    "### PLOTS "
   ]
  },
  {
   "cell_type": "code",
   "execution_count": 102,
   "metadata": {},
   "outputs": [
    {
     "data": {
      "image/png": "[encoded data removed]",
      "text/plain": [
       "<Figure size 640x480 with 1 Axes>"
      ]
     },
     "metadata": {},
     "output_type": "display_data"
    }
   ],
   "source": [
    "sns.countplot(data = df, x = 'car_model')\n",
    "plt.xticks(rotation=90)\n",
    "plt.show()"
   ]
  },
  {
   "cell_type": "code",
   "execution_count": 103,
   "metadata": {},
   "outputs": [
    {
     "data": {
      "image/png": "[encoded data removed]",
      "text/plain": [
       "<Figure size 640x480 with 1 Axes>"
      ]
     },
     "metadata": {},
     "output_type": "display_data"
    }
   ],
   "source": [
    "df['price'] = df['price'].apply(lambda x: float(x.replace(\" \",\"\").replace(\",\",\".\")))\n",
    "sns.boxplot(df, x = 'car_model', y = 'price')\n",
    "plt.xticks(rotation=90)\n",
    "plt.show()"
   ]
  },
  {
   "cell_type": "code",
   "execution_count": 104,
   "metadata": {},
   "outputs": [
    {
     "data": {
      "image/png": "[encoded data removed]",
      "text/plain": [
       "<Figure size 640x480 with 1 Axes>"
      ]
     },
     "metadata": {},
     "output_type": "display_data"
    }
   ],
   "source": [
    "df['year'] = pd.to_numeric(df['year'], errors='coerce')\n",
    "sns.barplot(df, x = 'year', y = 'price', estimator='mean')\n",
    "plt.xticks(rotation=90)\n",
    "plt.show()"
   ]
  },
  {
   "cell_type": "code",
   "execution_count": 105,
   "metadata": {},
   "outputs": [
    {
     "data": {
      "image/png": "[encoded data removed]",
      "text/plain": [
       "<Figure size 640x480 with 1 Axes>"
      ]
     },
     "metadata": {},
     "output_type": "display_data"
    }
   ],
   "source": [
    "df['mileage'] = df['mileage'].apply(lambda x: int(x.split(' km')[0].replace(' ','')))\n",
    "sns.scatterplot(df, x = 'mileage', y = 'price')\n",
    "plt.xticks(rotation=90)\n",
    "plt.show()"
   ]
  },
  {
   "cell_type": "code",
   "execution_count": 106,
   "metadata": {},
   "outputs": [
    {
     "data": {
      "image/png": "[encoded data removed]",
      "text/plain": [
       "<Figure size 640x480 with 1 Axes>"
      ]
     },
     "metadata": {},
     "output_type": "display_data"
    }
   ],
   "source": [
    "sns.barplot(df, x = 'year', y = 'mileage', estimator='mean')\n",
    "plt.xticks(rotation=90)\n",
    "plt.show()"
   ]
  },
  {
   "cell_type": "code",
   "execution_count": 107,
   "metadata": {},
   "outputs": [
    {
     "data": {
      "text/plain": [
       "Diesel         903\n",
       "Benzyna        748\n",
       "Benzyna+LPG     41\n",
       "Hybryda         28\n",
       "Elektryczny      5\n",
       "Name: fuel_type, dtype: int64"
      ]
     },
     "execution_count": 107,
     "metadata": {},
     "output_type": "execute_result"
    }
   ],
   "source": [
    "df['fuel_type'].value_counts()"
   ]
  },
  {
   "cell_type": "code",
   "execution_count": 108,
   "metadata": {},
   "outputs": [
    {
     "data": {
      "text/plain": [
       "Automatyczna    869\n",
       "Manualna        856\n",
       "Name: transmission, dtype: int64"
      ]
     },
     "execution_count": 108,
     "metadata": {},
     "output_type": "execute_result"
    }
   ],
   "source": [
    "df['transmission'].value_counts()"
   ]
  },
  {
   "cell_type": "code",
   "execution_count": 109,
   "metadata": {},
   "outputs": [
    {
     "data": {
      "text/plain": [
       "Kombi            505\n",
       "SUV              374\n",
       "Sedan            343\n",
       "Kompakt          220\n",
       "Minivan          157\n",
       "Auta miejskie     53\n",
       "Coupe             33\n",
       "Auta małe         24\n",
       "Kabriolet         16\n",
       "Name: body type, dtype: int64"
      ]
     },
     "execution_count": 109,
     "metadata": {},
     "output_type": "execute_result"
    }
   ],
   "source": [
    "df['body type'].value_counts()"
   ]
  },
  {
   "cell_type": "code",
   "execution_count": 110,
   "metadata": {},
   "outputs": [
    {
     "data": {
      "text/plain": [
       "<Axes: xlabel='fuel_type', ylabel='price'>"
      ]
     },
     "execution_count": 110,
     "metadata": {},
     "output_type": "execute_result"
    },
    {
     "data": {
      "image/png": "[encoded data removed]",
      "text/plain": [
       "<Figure size 640x480 with 1 Axes>"
      ]
     },
     "metadata": {},
     "output_type": "display_data"
    }
   ],
   "source": [
    "sns.barplot(df, x = 'fuel_type', y = 'price')"
   ]
  },
  {
   "cell_type": "code",
   "execution_count": 111,
   "metadata": {},
   "outputs": [
    {
     "data": {
      "text/plain": [
       "<Axes: xlabel='transmission', ylabel='price'>"
      ]
     },
     "execution_count": 111,
     "metadata": {},
     "output_type": "execute_result"
    },
    {
     "data": {
      "image/png": "[encoded data removed]",
      "text/plain": [
       "<Figure size 640x480 with 1 Axes>"
      ]
     },
     "metadata": {},
     "output_type": "display_data"
    }
   ],
   "source": [
    "sns.barplot(df, x = 'transmission', y = 'price')"
   ]
  },
  {
   "cell_type": "code",
   "execution_count": 112,
   "metadata": {},
   "outputs": [
    {
     "data": {
      "image/png": "[encoded data removed]",
      "text/plain": [
       "<Figure size 640x480 with 1 Axes>"
      ]
     },
     "metadata": {},
     "output_type": "display_data"
    }
   ],
   "source": [
    "sns.barplot(df, x = 'body type', y = 'price')\n",
    "plt.xticks(rotation=90)\n",
    "plt.show()"
   ]
  },
  {
   "cell_type": "code",
   "execution_count": 113,
   "metadata": {},
   "outputs": [
    {
     "data": {
      "image/png": "[encoded data removed]",
      "text/plain": [
       "<Figure size 640x480 with 1 Axes>"
      ]
     },
     "metadata": {},
     "output_type": "display_data"
    }
   ],
   "source": [
    "df['engine displacement'] = df['engine displacement'].apply(lambda x: int(x.split(' cm3')[0].replace(' ','')) if x != 0 else 0)\n",
    "sns.barplot(df, x = 'year', y = 'engine displacement')\n",
    "plt.xticks(rotation=90)\n",
    "plt.show()"
   ]
  },
  {
   "cell_type": "code",
   "execution_count": 114,
   "metadata": {},
   "outputs": [
    {
     "data": {
      "text/plain": [
       "<Axes: xlabel='engine displacement', ylabel='price'>"
      ]
     },
     "execution_count": 114,
     "metadata": {},
     "output_type": "execute_result"
    },
    {
     "data": {
      "image/png": "[encoded data removed]",
      "text/plain": [
       "<Figure size 640x480 with 1 Axes>"
      ]
     },
     "metadata": {},
     "output_type": "display_data"
    }
   ],
   "source": [
    "sns.regplot(data=df, x='engine displacement', y='price', scatter_kws={'s':10})"
   ]
  },
  {
   "cell_type": "code",
   "execution_count": 115,
   "metadata": {},
   "outputs": [
    {
     "data": {
      "image/png": "[encoded data removed]",
      "text/plain": [
       "<Figure size 640x480 with 1 Axes>"
      ]
     },
     "metadata": {},
     "output_type": "display_data"
    }
   ],
   "source": [
    "df['engine power'] = df['engine power'].apply(lambda x: int(x.split(' KM')[0].replace(' ','')))\n",
    "sns.barplot(df, x = 'year', y = 'engine power')\n",
    "plt.xticks(rotation=90)\n",
    "plt.show()"
   ]
  },
  {
   "cell_type": "code",
   "execution_count": 116,
   "metadata": {},
   "outputs": [
    {
     "data": {
      "text/plain": [
       "<Axes: xlabel='engine power', ylabel='price'>"
      ]
     },
     "execution_count": 116,
     "metadata": {},
     "output_type": "execute_result"
    },
    {
     "data": {
      "image/png": "[encoded data removed]",
      "text/plain": [
       "<Figure size 640x480 with 1 Axes>"
      ]
     },
     "metadata": {},
     "output_type": "display_data"
    }
   ],
   "source": [
    "sns.regplot(data=df, x='engine power', y='price', scatter_kws={'s':10})"
   ]
  },
  {
   "cell_type": "code",
   "execution_count": 117,
   "metadata": {},
   "outputs": [
    {
     "data": {
      "text/plain": [
       "<Axes: xlabel='new_or_use', ylabel='count'>"
      ]
     },
     "execution_count": 117,
     "metadata": {},
     "output_type": "execute_result"
    },
    {
     "data": {
      "image/png": "[encoded data removed]",
      "text/plain": [
       "<Figure size 640x480 with 1 Axes>"
      ]
     },
     "metadata": {},
     "output_type": "display_data"
    }
   ],
   "source": [
    "sns.countplot(df, x = 'new_or_use')"
   ]
  },
  {
   "cell_type": "code",
   "execution_count": 118,
   "metadata": {},
   "outputs": [
    {
     "data": {
      "text/plain": [
       "<Axes: xlabel='new_or_use', ylabel='price'>"
      ]
     },
     "execution_count": 118,
     "metadata": {},
     "output_type": "execute_result"
    },
    {
     "data": {
      "image/png": "[encoded data removed]",
      "text/plain": [
       "<Figure size 640x480 with 1 Axes>"
      ]
     },
     "metadata": {},
     "output_type": "display_data"
    }
   ],
   "source": [
    "sns.barplot(df, x = 'new_or_use', y = 'price')"
   ]
  },
  {
   "cell_type": "code",
   "execution_count": 119,
   "metadata": {},
   "outputs": [],
   "source": [
    "df_encoded = pd.get_dummies(df, columns=['fuel_type', 'transmission', 'car_model', 'body type', 'new_or_use'], drop_first=True)"
   ]
  },
  {
   "cell_type": "code",
   "execution_count": 120,
   "metadata": {},
   "outputs": [
    {
     "data": {
      "text/html": [
       "<div>\n",
       "<style scoped>\n",
       "    .dataframe tbody tr th:only-of-type {\n",
       "        vertical-align: middle;\n",
       "    }\n",
       "\n",
       "    .dataframe tbody tr th {\n",
       "        vertical-align: top;\n",
       "    }\n",
       "\n",
       "    .dataframe thead th {\n",
       "        text-align: right;\n",
       "    }\n",
       "</style>\n",
       "<table border=\"1\" class=\"dataframe\">\n",
       "  <thead>\n",
       "    <tr style=\"text-align: right;\">\n",
       "      <th></th>\n",
       "      <th>year</th>\n",
       "      <th>door_count</th>\n",
       "      <th>mileage</th>\n",
       "      <th>engine displacement</th>\n",
       "      <th>engine power</th>\n",
       "      <th>price</th>\n",
       "      <th>fuel_type_Benzyna+LPG</th>\n",
       "      <th>fuel_type_Diesel</th>\n",
       "      <th>fuel_type_Elektryczny</th>\n",
       "      <th>fuel_type_Hybryda</th>\n",
       "      <th>...</th>\n",
       "      <th>car_model_Volkswagen</th>\n",
       "      <th>body type_Auta miejskie</th>\n",
       "      <th>body type_Coupe</th>\n",
       "      <th>body type_Kabriolet</th>\n",
       "      <th>body type_Kombi</th>\n",
       "      <th>body type_Kompakt</th>\n",
       "      <th>body type_Minivan</th>\n",
       "      <th>body type_SUV</th>\n",
       "      <th>body type_Sedan</th>\n",
       "      <th>new_or_use_Używany</th>\n",
       "    </tr>\n",
       "  </thead>\n",
       "  <tbody>\n",
       "    <tr>\n",
       "      <th>0</th>\n",
       "      <td>2018</td>\n",
       "      <td>5</td>\n",
       "      <td>65819</td>\n",
       "      <td>1984</td>\n",
       "      <td>190</td>\n",
       "      <td>87900.0</td>\n",
       "      <td>0</td>\n",
       "      <td>0</td>\n",
       "      <td>0</td>\n",
       "      <td>0</td>\n",
       "      <td>...</td>\n",
       "      <td>0</td>\n",
       "      <td>0</td>\n",
       "      <td>0</td>\n",
       "      <td>0</td>\n",
       "      <td>0</td>\n",
       "      <td>0</td>\n",
       "      <td>0</td>\n",
       "      <td>0</td>\n",
       "      <td>1</td>\n",
       "      <td>1</td>\n",
       "    </tr>\n",
       "    <tr>\n",
       "      <th>1</th>\n",
       "      <td>2013</td>\n",
       "      <td>5</td>\n",
       "      <td>188000</td>\n",
       "      <td>2967</td>\n",
       "      <td>313</td>\n",
       "      <td>84000.0</td>\n",
       "      <td>0</td>\n",
       "      <td>1</td>\n",
       "      <td>0</td>\n",
       "      <td>0</td>\n",
       "      <td>...</td>\n",
       "      <td>0</td>\n",
       "      <td>0</td>\n",
       "      <td>0</td>\n",
       "      <td>0</td>\n",
       "      <td>1</td>\n",
       "      <td>0</td>\n",
       "      <td>0</td>\n",
       "      <td>0</td>\n",
       "      <td>0</td>\n",
       "      <td>1</td>\n",
       "    </tr>\n",
       "    <tr>\n",
       "      <th>2</th>\n",
       "      <td>2013</td>\n",
       "      <td>5</td>\n",
       "      <td>188000</td>\n",
       "      <td>2967</td>\n",
       "      <td>313</td>\n",
       "      <td>84000.0</td>\n",
       "      <td>0</td>\n",
       "      <td>1</td>\n",
       "      <td>0</td>\n",
       "      <td>0</td>\n",
       "      <td>...</td>\n",
       "      <td>0</td>\n",
       "      <td>0</td>\n",
       "      <td>0</td>\n",
       "      <td>0</td>\n",
       "      <td>1</td>\n",
       "      <td>0</td>\n",
       "      <td>0</td>\n",
       "      <td>0</td>\n",
       "      <td>0</td>\n",
       "      <td>1</td>\n",
       "    </tr>\n",
       "    <tr>\n",
       "      <th>3</th>\n",
       "      <td>2013</td>\n",
       "      <td>5</td>\n",
       "      <td>188000</td>\n",
       "      <td>2967</td>\n",
       "      <td>313</td>\n",
       "      <td>84000.0</td>\n",
       "      <td>0</td>\n",
       "      <td>1</td>\n",
       "      <td>0</td>\n",
       "      <td>0</td>\n",
       "      <td>...</td>\n",
       "      <td>0</td>\n",
       "      <td>0</td>\n",
       "      <td>0</td>\n",
       "      <td>0</td>\n",
       "      <td>1</td>\n",
       "      <td>0</td>\n",
       "      <td>0</td>\n",
       "      <td>0</td>\n",
       "      <td>0</td>\n",
       "      <td>1</td>\n",
       "    </tr>\n",
       "    <tr>\n",
       "      <th>4</th>\n",
       "      <td>2013</td>\n",
       "      <td>5</td>\n",
       "      <td>188000</td>\n",
       "      <td>2967</td>\n",
       "      <td>313</td>\n",
       "      <td>84000.0</td>\n",
       "      <td>0</td>\n",
       "      <td>1</td>\n",
       "      <td>0</td>\n",
       "      <td>0</td>\n",
       "      <td>...</td>\n",
       "      <td>0</td>\n",
       "      <td>0</td>\n",
       "      <td>0</td>\n",
       "      <td>0</td>\n",
       "      <td>1</td>\n",
       "      <td>0</td>\n",
       "      <td>0</td>\n",
       "      <td>0</td>\n",
       "      <td>0</td>\n",
       "      <td>1</td>\n",
       "    </tr>\n",
       "    <tr>\n",
       "      <th>...</th>\n",
       "      <td>...</td>\n",
       "      <td>...</td>\n",
       "      <td>...</td>\n",
       "      <td>...</td>\n",
       "      <td>...</td>\n",
       "      <td>...</td>\n",
       "      <td>...</td>\n",
       "      <td>...</td>\n",
       "      <td>...</td>\n",
       "      <td>...</td>\n",
       "      <td>...</td>\n",
       "      <td>...</td>\n",
       "      <td>...</td>\n",
       "      <td>...</td>\n",
       "      <td>...</td>\n",
       "      <td>...</td>\n",
       "      <td>...</td>\n",
       "      <td>...</td>\n",
       "      <td>...</td>\n",
       "      <td>...</td>\n",
       "      <td>...</td>\n",
       "    </tr>\n",
       "    <tr>\n",
       "      <th>1730</th>\n",
       "      <td>2023</td>\n",
       "      <td>5</td>\n",
       "      <td>1</td>\n",
       "      <td>999</td>\n",
       "      <td>110</td>\n",
       "      <td>121500.0</td>\n",
       "      <td>0</td>\n",
       "      <td>0</td>\n",
       "      <td>0</td>\n",
       "      <td>0</td>\n",
       "      <td>...</td>\n",
       "      <td>1</td>\n",
       "      <td>0</td>\n",
       "      <td>0</td>\n",
       "      <td>0</td>\n",
       "      <td>0</td>\n",
       "      <td>1</td>\n",
       "      <td>0</td>\n",
       "      <td>0</td>\n",
       "      <td>0</td>\n",
       "      <td>0</td>\n",
       "    </tr>\n",
       "    <tr>\n",
       "      <th>1731</th>\n",
       "      <td>2023</td>\n",
       "      <td>5</td>\n",
       "      <td>1</td>\n",
       "      <td>999</td>\n",
       "      <td>110</td>\n",
       "      <td>121500.0</td>\n",
       "      <td>0</td>\n",
       "      <td>0</td>\n",
       "      <td>0</td>\n",
       "      <td>0</td>\n",
       "      <td>...</td>\n",
       "      <td>1</td>\n",
       "      <td>0</td>\n",
       "      <td>0</td>\n",
       "      <td>0</td>\n",
       "      <td>0</td>\n",
       "      <td>1</td>\n",
       "      <td>0</td>\n",
       "      <td>0</td>\n",
       "      <td>0</td>\n",
       "      <td>0</td>\n",
       "    </tr>\n",
       "    <tr>\n",
       "      <th>1732</th>\n",
       "      <td>2023</td>\n",
       "      <td>5</td>\n",
       "      <td>1</td>\n",
       "      <td>999</td>\n",
       "      <td>110</td>\n",
       "      <td>121500.0</td>\n",
       "      <td>0</td>\n",
       "      <td>0</td>\n",
       "      <td>0</td>\n",
       "      <td>0</td>\n",
       "      <td>...</td>\n",
       "      <td>1</td>\n",
       "      <td>0</td>\n",
       "      <td>0</td>\n",
       "      <td>0</td>\n",
       "      <td>0</td>\n",
       "      <td>1</td>\n",
       "      <td>0</td>\n",
       "      <td>0</td>\n",
       "      <td>0</td>\n",
       "      <td>0</td>\n",
       "    </tr>\n",
       "    <tr>\n",
       "      <th>1733</th>\n",
       "      <td>2024</td>\n",
       "      <td>5</td>\n",
       "      <td>1</td>\n",
       "      <td>1498</td>\n",
       "      <td>150</td>\n",
       "      <td>178000.0</td>\n",
       "      <td>0</td>\n",
       "      <td>0</td>\n",
       "      <td>0</td>\n",
       "      <td>0</td>\n",
       "      <td>...</td>\n",
       "      <td>1</td>\n",
       "      <td>0</td>\n",
       "      <td>0</td>\n",
       "      <td>0</td>\n",
       "      <td>1</td>\n",
       "      <td>0</td>\n",
       "      <td>0</td>\n",
       "      <td>0</td>\n",
       "      <td>0</td>\n",
       "      <td>0</td>\n",
       "    </tr>\n",
       "    <tr>\n",
       "      <th>1734</th>\n",
       "      <td>2024</td>\n",
       "      <td>5</td>\n",
       "      <td>1</td>\n",
       "      <td>1498</td>\n",
       "      <td>150</td>\n",
       "      <td>178000.0</td>\n",
       "      <td>0</td>\n",
       "      <td>0</td>\n",
       "      <td>0</td>\n",
       "      <td>0</td>\n",
       "      <td>...</td>\n",
       "      <td>1</td>\n",
       "      <td>0</td>\n",
       "      <td>0</td>\n",
       "      <td>0</td>\n",
       "      <td>1</td>\n",
       "      <td>0</td>\n",
       "      <td>0</td>\n",
       "      <td>0</td>\n",
       "      <td>0</td>\n",
       "      <td>0</td>\n",
       "    </tr>\n",
       "  </tbody>\n",
       "</table>\n",
       "<p>1725 rows × 28 columns</p>\n",
       "</div>"
      ],
      "text/plain": [
       "      year door_count  mileage  engine displacement  engine power     price  \\\n",
       "0     2018          5    65819                 1984           190   87900.0   \n",
       "1     2013          5   188000                 2967           313   84000.0   \n",
       "2     2013          5   188000                 2967           313   84000.0   \n",
       "3     2013          5   188000                 2967           313   84000.0   \n",
       "4     2013          5   188000                 2967           313   84000.0   \n",
       "...    ...        ...      ...                  ...           ...       ...   \n",
       "1730  2023          5        1                  999           110  121500.0   \n",
       "1731  2023          5        1                  999           110  121500.0   \n",
       "1732  2023          5        1                  999           110  121500.0   \n",
       "1733  2024          5        1                 1498           150  178000.0   \n",
       "1734  2024          5        1                 1498           150  178000.0   \n",
       "\n",
       "      fuel_type_Benzyna+LPG  fuel_type_Diesel  fuel_type_Elektryczny  \\\n",
       "0                         0                 0                      0   \n",
       "1                         0                 1                      0   \n",
       "2                         0                 1                      0   \n",
       "3                         0                 1                      0   \n",
       "4                         0                 1                      0   \n",
       "...                     ...               ...                    ...   \n",
       "1730                      0                 0                      0   \n",
       "1731                      0                 0                      0   \n",
       "1732                      0                 0                      0   \n",
       "1733                      0                 0                      0   \n",
       "1734                      0                 0                      0   \n",
       "\n",
       "      fuel_type_Hybryda  ...  car_model_Volkswagen  body type_Auta miejskie  \\\n",
       "0                     0  ...                     0                        0   \n",
       "1                     0  ...                     0                        0   \n",
       "2                     0  ...                     0                        0   \n",
       "3                     0  ...                     0                        0   \n",
       "4                     0  ...                     0                        0   \n",
       "...                 ...  ...                   ...                      ...   \n",
       "1730                  0  ...                     1                        0   \n",
       "1731                  0  ...                     1                        0   \n",
       "1732                  0  ...                     1                        0   \n",
       "1733                  0  ...                     1                        0   \n",
       "1734                  0  ...                     1                        0   \n",
       "\n",
       "      body type_Coupe  body type_Kabriolet  body type_Kombi  \\\n",
       "0                   0                    0                0   \n",
       "1                   0                    0                1   \n",
       "2                   0                    0                1   \n",
       "3                   0                    0                1   \n",
       "4                   0                    0                1   \n",
       "...               ...                  ...              ...   \n",
       "1730                0                    0                0   \n",
       "1731                0                    0                0   \n",
       "1732                0                    0                0   \n",
       "1733                0                    0                1   \n",
       "1734                0                    0                1   \n",
       "\n",
       "      body type_Kompakt  body type_Minivan  body type_SUV  body type_Sedan  \\\n",
       "0                     0                  0              0                1   \n",
       "1                     0                  0              0                0   \n",
       "2                     0                  0              0                0   \n",
       "3                     0                  0              0                0   \n",
       "4                     0                  0              0                0   \n",
       "...                 ...                ...            ...              ...   \n",
       "1730                  1                  0              0                0   \n",
       "1731                  1                  0              0                0   \n",
       "1732                  1                  0              0                0   \n",
       "1733                  0                  0              0                0   \n",
       "1734                  0                  0              0                0   \n",
       "\n",
       "      new_or_use_Używany  \n",
       "0                      1  \n",
       "1                      1  \n",
       "2                      1  \n",
       "3                      1  \n",
       "4                      1  \n",
       "...                  ...  \n",
       "1730                   0  \n",
       "1731                   0  \n",
       "1732                   0  \n",
       "1733                   0  \n",
       "1734                   0  \n",
       "\n",
       "[1725 rows x 28 columns]"
      ]
     },
     "execution_count": 120,
     "metadata": {},
     "output_type": "execute_result"
    }
   ],
   "source": [
    "df_encoded"
   ]
  }
 ],
 "metadata": {
  "kernelspec": {
   "display_name": "car_project",
   "language": "python",
   "name": "python3"
  },
  "language_info": {
   "codemirror_mode": {
    "name": "ipython",
    "version": 3
   },
   "file_extension": ".py",
   "mimetype": "text/x-python",
   "name": "python",
   "nbconvert_exporter": "python",
   "pygments_lexer": "ipython3",
   "version": "3.10.15"
  }
 },
 "nbformat": 4,
 "nbformat_minor": 2
}
